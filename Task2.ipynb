{
 "cells": [
  {
   "cell_type": "markdown",
   "id": "cccbb8e6",
   "metadata": {},
   "source": [
    "<br>\n",
    "<font size=\"10\"><b>Problem Statement for Task 2</b></font>"
   ]
  },
  {
   "cell_type": "markdown",
   "id": "5b4e4e06",
   "metadata": {},
   "source": [
    "\n",
    "<font size=\"3\">Unemployment is measured by the unemployment rate which is the number of people\n",
    "who are unemployed as a percentage of the total labour force. We have seen a sharp\n",
    "increase in the unemployment rate during Covid-19, so analyzing the unemployment rate\n",
    "can be a good data science project.</font>"
   ]
  },
  {
   "cell_type": "markdown",
   "id": "8a5042b9",
   "metadata": {},
   "source": [
    "<font size=\"4\"><b>Solution:</b></font>"
   ]
  },
  {
   "cell_type": "markdown",
   "id": "e04e1f0f",
   "metadata": {},
   "source": [
    "<font size=\"3\">Importing necessary libraries and displaying the head</font>\n"
   ]
  },
  {
   "cell_type": "code",
   "execution_count": 3,
   "id": "6ba6b96b",
   "metadata": {},
   "outputs": [],
   "source": [
    "import matplotlib.pyplot as plt\n",
    "import numpy as np\n",
    "import pandas as pd\n",
    "import seaborn as sns\n",
    "import plotly.express as px\n",
    "\n",
    "db2=pd.read_csv(\"Unemployment_Rate_upto_11_2020.csv\")"
   ]
  },
  {
   "cell_type": "code",
   "execution_count": 4,
   "id": "20fb03a4",
   "metadata": {
    "scrolled": true
   },
   "outputs": [
    {
     "name": "stdout",
     "output_type": "stream",
     "text": [
      "        Estimated Unemployment Rate (%)   Estimated Employed  \\\n",
      "count                        267.000000         2.670000e+02   \n",
      "mean                          12.236929         1.396211e+07   \n",
      "std                           10.803283         1.336632e+07   \n",
      "min                            0.500000         1.175420e+05   \n",
      "25%                            4.845000         2.838930e+06   \n",
      "50%                            9.650000         9.732417e+06   \n",
      "75%                           16.755000         2.187869e+07   \n",
      "max                           75.850000         5.943376e+07   \n",
      "\n",
      "        Estimated Labour Participation Rate (%)   longitude    latitude  \n",
      "count                                267.000000  267.000000  267.000000  \n",
      "mean                                  41.681573   22.826048   80.532425  \n",
      "std                                    7.845419    6.270731    5.831738  \n",
      "min                                   16.770000   10.850500   71.192400  \n",
      "25%                                   37.265000   18.112400   76.085600  \n",
      "50%                                   40.390000   23.610200   79.019300  \n",
      "75%                                   44.055000   27.278400   85.279900  \n",
      "max                                   69.690000   33.778200   92.937600  \n"
     ]
    }
   ],
   "source": [
    "print(db2.describe())"
   ]
  },
  {
   "cell_type": "code",
   "execution_count": 5,
   "id": "93e9d476",
   "metadata": {
    "scrolled": true
   },
   "outputs": [
    {
     "data": {
      "text/html": [
       "<div>\n",
       "<style scoped>\n",
       "    .dataframe tbody tr th:only-of-type {\n",
       "        vertical-align: middle;\n",
       "    }\n",
       "\n",
       "    .dataframe tbody tr th {\n",
       "        vertical-align: top;\n",
       "    }\n",
       "\n",
       "    .dataframe thead th {\n",
       "        text-align: right;\n",
       "    }\n",
       "</style>\n",
       "<table border=\"1\" class=\"dataframe\">\n",
       "  <thead>\n",
       "    <tr style=\"text-align: right;\">\n",
       "      <th></th>\n",
       "      <th>Region</th>\n",
       "      <th>Date</th>\n",
       "      <th>Frequency</th>\n",
       "      <th>Estimated Unemployment Rate (%)</th>\n",
       "      <th>Estimated Employed</th>\n",
       "      <th>Estimated Labour Participation Rate (%)</th>\n",
       "      <th>Region.1</th>\n",
       "      <th>longitude</th>\n",
       "      <th>latitude</th>\n",
       "    </tr>\n",
       "  </thead>\n",
       "  <tbody>\n",
       "    <tr>\n",
       "      <th>0</th>\n",
       "      <td>Andhra Pradesh</td>\n",
       "      <td>31-01-2020</td>\n",
       "      <td>M</td>\n",
       "      <td>5.48</td>\n",
       "      <td>16635535</td>\n",
       "      <td>41.02</td>\n",
       "      <td>South</td>\n",
       "      <td>15.9129</td>\n",
       "      <td>79.740</td>\n",
       "    </tr>\n",
       "    <tr>\n",
       "      <th>1</th>\n",
       "      <td>Andhra Pradesh</td>\n",
       "      <td>29-02-2020</td>\n",
       "      <td>M</td>\n",
       "      <td>5.83</td>\n",
       "      <td>16545652</td>\n",
       "      <td>40.90</td>\n",
       "      <td>South</td>\n",
       "      <td>15.9129</td>\n",
       "      <td>79.740</td>\n",
       "    </tr>\n",
       "    <tr>\n",
       "      <th>2</th>\n",
       "      <td>Andhra Pradesh</td>\n",
       "      <td>31-03-2020</td>\n",
       "      <td>M</td>\n",
       "      <td>5.79</td>\n",
       "      <td>15881197</td>\n",
       "      <td>39.18</td>\n",
       "      <td>South</td>\n",
       "      <td>15.9129</td>\n",
       "      <td>79.740</td>\n",
       "    </tr>\n",
       "    <tr>\n",
       "      <th>3</th>\n",
       "      <td>Andhra Pradesh</td>\n",
       "      <td>30-04-2020</td>\n",
       "      <td>M</td>\n",
       "      <td>20.51</td>\n",
       "      <td>11336911</td>\n",
       "      <td>33.10</td>\n",
       "      <td>South</td>\n",
       "      <td>15.9129</td>\n",
       "      <td>79.740</td>\n",
       "    </tr>\n",
       "    <tr>\n",
       "      <th>4</th>\n",
       "      <td>Andhra Pradesh</td>\n",
       "      <td>31-05-2020</td>\n",
       "      <td>M</td>\n",
       "      <td>17.43</td>\n",
       "      <td>12988845</td>\n",
       "      <td>36.46</td>\n",
       "      <td>South</td>\n",
       "      <td>15.9129</td>\n",
       "      <td>79.740</td>\n",
       "    </tr>\n",
       "    <tr>\n",
       "      <th>...</th>\n",
       "      <td>...</td>\n",
       "      <td>...</td>\n",
       "      <td>...</td>\n",
       "      <td>...</td>\n",
       "      <td>...</td>\n",
       "      <td>...</td>\n",
       "      <td>...</td>\n",
       "      <td>...</td>\n",
       "      <td>...</td>\n",
       "    </tr>\n",
       "    <tr>\n",
       "      <th>262</th>\n",
       "      <td>West Bengal</td>\n",
       "      <td>30-06-2020</td>\n",
       "      <td>M</td>\n",
       "      <td>7.29</td>\n",
       "      <td>30726310</td>\n",
       "      <td>40.39</td>\n",
       "      <td>East</td>\n",
       "      <td>22.9868</td>\n",
       "      <td>87.855</td>\n",
       "    </tr>\n",
       "    <tr>\n",
       "      <th>263</th>\n",
       "      <td>West Bengal</td>\n",
       "      <td>31-07-2020</td>\n",
       "      <td>M</td>\n",
       "      <td>6.83</td>\n",
       "      <td>35372506</td>\n",
       "      <td>46.17</td>\n",
       "      <td>East</td>\n",
       "      <td>22.9868</td>\n",
       "      <td>87.855</td>\n",
       "    </tr>\n",
       "    <tr>\n",
       "      <th>264</th>\n",
       "      <td>West Bengal</td>\n",
       "      <td>31-08-2020</td>\n",
       "      <td>M</td>\n",
       "      <td>14.87</td>\n",
       "      <td>33298644</td>\n",
       "      <td>47.48</td>\n",
       "      <td>East</td>\n",
       "      <td>22.9868</td>\n",
       "      <td>87.855</td>\n",
       "    </tr>\n",
       "    <tr>\n",
       "      <th>265</th>\n",
       "      <td>West Bengal</td>\n",
       "      <td>30-09-2020</td>\n",
       "      <td>M</td>\n",
       "      <td>9.35</td>\n",
       "      <td>35707239</td>\n",
       "      <td>47.73</td>\n",
       "      <td>East</td>\n",
       "      <td>22.9868</td>\n",
       "      <td>87.855</td>\n",
       "    </tr>\n",
       "    <tr>\n",
       "      <th>266</th>\n",
       "      <td>West Bengal</td>\n",
       "      <td>31-10-2020</td>\n",
       "      <td>M</td>\n",
       "      <td>9.98</td>\n",
       "      <td>33962549</td>\n",
       "      <td>45.63</td>\n",
       "      <td>East</td>\n",
       "      <td>22.9868</td>\n",
       "      <td>87.855</td>\n",
       "    </tr>\n",
       "  </tbody>\n",
       "</table>\n",
       "<p>267 rows × 9 columns</p>\n",
       "</div>"
      ],
      "text/plain": [
       "             Region         Date  Frequency   Estimated Unemployment Rate (%)  \\\n",
       "0    Andhra Pradesh   31-01-2020          M                              5.48   \n",
       "1    Andhra Pradesh   29-02-2020          M                              5.83   \n",
       "2    Andhra Pradesh   31-03-2020          M                              5.79   \n",
       "3    Andhra Pradesh   30-04-2020          M                             20.51   \n",
       "4    Andhra Pradesh   31-05-2020          M                             17.43   \n",
       "..              ...          ...        ...                               ...   \n",
       "262     West Bengal   30-06-2020          M                              7.29   \n",
       "263     West Bengal   31-07-2020          M                              6.83   \n",
       "264     West Bengal   31-08-2020          M                             14.87   \n",
       "265     West Bengal   30-09-2020          M                              9.35   \n",
       "266     West Bengal   31-10-2020          M                              9.98   \n",
       "\n",
       "      Estimated Employed   Estimated Labour Participation Rate (%) Region.1  \\\n",
       "0               16635535                                     41.02    South   \n",
       "1               16545652                                     40.90    South   \n",
       "2               15881197                                     39.18    South   \n",
       "3               11336911                                     33.10    South   \n",
       "4               12988845                                     36.46    South   \n",
       "..                   ...                                       ...      ...   \n",
       "262             30726310                                     40.39     East   \n",
       "263             35372506                                     46.17     East   \n",
       "264             33298644                                     47.48     East   \n",
       "265             35707239                                     47.73     East   \n",
       "266             33962549                                     45.63     East   \n",
       "\n",
       "     longitude  latitude  \n",
       "0      15.9129    79.740  \n",
       "1      15.9129    79.740  \n",
       "2      15.9129    79.740  \n",
       "3      15.9129    79.740  \n",
       "4      15.9129    79.740  \n",
       "..         ...       ...  \n",
       "262    22.9868    87.855  \n",
       "263    22.9868    87.855  \n",
       "264    22.9868    87.855  \n",
       "265    22.9868    87.855  \n",
       "266    22.9868    87.855  \n",
       "\n",
       "[267 rows x 9 columns]"
      ]
     },
     "execution_count": 5,
     "metadata": {},
     "output_type": "execute_result"
    }
   ],
   "source": [
    "db2"
   ]
  },
  {
   "cell_type": "markdown",
   "id": "6b9d7d00",
   "metadata": {},
   "source": [
    "<br>\n",
    "<font size=\"3\">Check for null values in columns</font>\n"
   ]
  },
  {
   "cell_type": "code",
   "execution_count": 6,
   "id": "787cbdbf",
   "metadata": {
    "scrolled": false
   },
   "outputs": [
    {
     "name": "stdout",
     "output_type": "stream",
     "text": [
      "Region                                      0\n",
      " Date                                       0\n",
      " Frequency                                  0\n",
      " Estimated Unemployment Rate (%)            0\n",
      " Estimated Employed                         0\n",
      " Estimated Labour Participation Rate (%)    0\n",
      "Region.1                                    0\n",
      "longitude                                   0\n",
      "latitude                                    0\n",
      "dtype: int64\n"
     ]
    }
   ],
   "source": [
    "\n",
    "print(db2.isnull().sum())\n"
   ]
  },
  {
   "cell_type": "code",
   "execution_count": 7,
   "id": "eae28fcb",
   "metadata": {},
   "outputs": [
    {
     "data": {
      "text/html": [
       "<div>\n",
       "<style scoped>\n",
       "    .dataframe tbody tr th:only-of-type {\n",
       "        vertical-align: middle;\n",
       "    }\n",
       "\n",
       "    .dataframe tbody tr th {\n",
       "        vertical-align: top;\n",
       "    }\n",
       "\n",
       "    .dataframe thead th {\n",
       "        text-align: right;\n",
       "    }\n",
       "</style>\n",
       "<table border=\"1\" class=\"dataframe\">\n",
       "  <thead>\n",
       "    <tr style=\"text-align: right;\">\n",
       "      <th></th>\n",
       "      <th>Region</th>\n",
       "      <th>Area</th>\n",
       "      <th>Date</th>\n",
       "      <th>Frequency</th>\n",
       "      <th>EstUnemploymentEmployed</th>\n",
       "      <th>EstEmployed</th>\n",
       "      <th>EstLabourParticipationRate</th>\n",
       "      <th>Longitude</th>\n",
       "      <th>Latitude</th>\n",
       "    </tr>\n",
       "  </thead>\n",
       "  <tbody>\n",
       "    <tr>\n",
       "      <th>0</th>\n",
       "      <td>Andhra Pradesh</td>\n",
       "      <td>31-01-2020</td>\n",
       "      <td>M</td>\n",
       "      <td>5.48</td>\n",
       "      <td>16635535</td>\n",
       "      <td>41.02</td>\n",
       "      <td>South</td>\n",
       "      <td>15.9129</td>\n",
       "      <td>79.740</td>\n",
       "    </tr>\n",
       "    <tr>\n",
       "      <th>1</th>\n",
       "      <td>Andhra Pradesh</td>\n",
       "      <td>29-02-2020</td>\n",
       "      <td>M</td>\n",
       "      <td>5.83</td>\n",
       "      <td>16545652</td>\n",
       "      <td>40.90</td>\n",
       "      <td>South</td>\n",
       "      <td>15.9129</td>\n",
       "      <td>79.740</td>\n",
       "    </tr>\n",
       "    <tr>\n",
       "      <th>2</th>\n",
       "      <td>Andhra Pradesh</td>\n",
       "      <td>31-03-2020</td>\n",
       "      <td>M</td>\n",
       "      <td>5.79</td>\n",
       "      <td>15881197</td>\n",
       "      <td>39.18</td>\n",
       "      <td>South</td>\n",
       "      <td>15.9129</td>\n",
       "      <td>79.740</td>\n",
       "    </tr>\n",
       "    <tr>\n",
       "      <th>3</th>\n",
       "      <td>Andhra Pradesh</td>\n",
       "      <td>30-04-2020</td>\n",
       "      <td>M</td>\n",
       "      <td>20.51</td>\n",
       "      <td>11336911</td>\n",
       "      <td>33.10</td>\n",
       "      <td>South</td>\n",
       "      <td>15.9129</td>\n",
       "      <td>79.740</td>\n",
       "    </tr>\n",
       "    <tr>\n",
       "      <th>4</th>\n",
       "      <td>Andhra Pradesh</td>\n",
       "      <td>31-05-2020</td>\n",
       "      <td>M</td>\n",
       "      <td>17.43</td>\n",
       "      <td>12988845</td>\n",
       "      <td>36.46</td>\n",
       "      <td>South</td>\n",
       "      <td>15.9129</td>\n",
       "      <td>79.740</td>\n",
       "    </tr>\n",
       "    <tr>\n",
       "      <th>...</th>\n",
       "      <td>...</td>\n",
       "      <td>...</td>\n",
       "      <td>...</td>\n",
       "      <td>...</td>\n",
       "      <td>...</td>\n",
       "      <td>...</td>\n",
       "      <td>...</td>\n",
       "      <td>...</td>\n",
       "      <td>...</td>\n",
       "    </tr>\n",
       "    <tr>\n",
       "      <th>262</th>\n",
       "      <td>West Bengal</td>\n",
       "      <td>30-06-2020</td>\n",
       "      <td>M</td>\n",
       "      <td>7.29</td>\n",
       "      <td>30726310</td>\n",
       "      <td>40.39</td>\n",
       "      <td>East</td>\n",
       "      <td>22.9868</td>\n",
       "      <td>87.855</td>\n",
       "    </tr>\n",
       "    <tr>\n",
       "      <th>263</th>\n",
       "      <td>West Bengal</td>\n",
       "      <td>31-07-2020</td>\n",
       "      <td>M</td>\n",
       "      <td>6.83</td>\n",
       "      <td>35372506</td>\n",
       "      <td>46.17</td>\n",
       "      <td>East</td>\n",
       "      <td>22.9868</td>\n",
       "      <td>87.855</td>\n",
       "    </tr>\n",
       "    <tr>\n",
       "      <th>264</th>\n",
       "      <td>West Bengal</td>\n",
       "      <td>31-08-2020</td>\n",
       "      <td>M</td>\n",
       "      <td>14.87</td>\n",
       "      <td>33298644</td>\n",
       "      <td>47.48</td>\n",
       "      <td>East</td>\n",
       "      <td>22.9868</td>\n",
       "      <td>87.855</td>\n",
       "    </tr>\n",
       "    <tr>\n",
       "      <th>265</th>\n",
       "      <td>West Bengal</td>\n",
       "      <td>30-09-2020</td>\n",
       "      <td>M</td>\n",
       "      <td>9.35</td>\n",
       "      <td>35707239</td>\n",
       "      <td>47.73</td>\n",
       "      <td>East</td>\n",
       "      <td>22.9868</td>\n",
       "      <td>87.855</td>\n",
       "    </tr>\n",
       "    <tr>\n",
       "      <th>266</th>\n",
       "      <td>West Bengal</td>\n",
       "      <td>31-10-2020</td>\n",
       "      <td>M</td>\n",
       "      <td>9.98</td>\n",
       "      <td>33962549</td>\n",
       "      <td>45.63</td>\n",
       "      <td>East</td>\n",
       "      <td>22.9868</td>\n",
       "      <td>87.855</td>\n",
       "    </tr>\n",
       "  </tbody>\n",
       "</table>\n",
       "<p>267 rows × 9 columns</p>\n",
       "</div>"
      ],
      "text/plain": [
       "             Region         Area Date  Frequency  EstUnemploymentEmployed  \\\n",
       "0    Andhra Pradesh   31-01-2020    M       5.48                 16635535   \n",
       "1    Andhra Pradesh   29-02-2020    M       5.83                 16545652   \n",
       "2    Andhra Pradesh   31-03-2020    M       5.79                 15881197   \n",
       "3    Andhra Pradesh   30-04-2020    M      20.51                 11336911   \n",
       "4    Andhra Pradesh   31-05-2020    M      17.43                 12988845   \n",
       "..              ...          ...  ...        ...                      ...   \n",
       "262     West Bengal   30-06-2020    M       7.29                 30726310   \n",
       "263     West Bengal   31-07-2020    M       6.83                 35372506   \n",
       "264     West Bengal   31-08-2020    M      14.87                 33298644   \n",
       "265     West Bengal   30-09-2020    M       9.35                 35707239   \n",
       "266     West Bengal   31-10-2020    M       9.98                 33962549   \n",
       "\n",
       "     EstEmployed EstLabourParticipationRate  Longitude  Latitude  \n",
       "0          41.02                      South    15.9129    79.740  \n",
       "1          40.90                      South    15.9129    79.740  \n",
       "2          39.18                      South    15.9129    79.740  \n",
       "3          33.10                      South    15.9129    79.740  \n",
       "4          36.46                      South    15.9129    79.740  \n",
       "..           ...                        ...        ...       ...  \n",
       "262        40.39                       East    22.9868    87.855  \n",
       "263        46.17                       East    22.9868    87.855  \n",
       "264        47.48                       East    22.9868    87.855  \n",
       "265        47.73                       East    22.9868    87.855  \n",
       "266        45.63                       East    22.9868    87.855  \n",
       "\n",
       "[267 rows x 9 columns]"
      ]
     },
     "execution_count": 7,
     "metadata": {},
     "output_type": "execute_result"
    }
   ],
   "source": [
    "db2.columns=[\"Region\",\"Area\",\"Date\",\"Frequency\",\"EstUnemploymentEmployed\",\"EstEmployed\",\"EstLabourParticipationRate\",\"Longitude\",\"Latitude\"]\n",
    "db2"
   ]
  },
  {
   "cell_type": "code",
   "execution_count": 8,
   "id": "1e78e7e2",
   "metadata": {},
   "outputs": [],
   "source": [
    "# db2 = db2[list(db2.columns[~db2.columns.duplicated()])]"
   ]
  },
  {
   "cell_type": "code",
   "execution_count": 9,
   "id": "d3cfc198",
   "metadata": {},
   "outputs": [
    {
     "name": "stdout",
     "output_type": "stream",
     "text": [
      "           Region         Area Date  Frequency  EstUnemploymentEmployed  \\\n",
      "0  Andhra Pradesh   31-01-2020    M       5.48                 16635535   \n",
      "1  Andhra Pradesh   29-02-2020    M       5.83                 16545652   \n",
      "2  Andhra Pradesh   31-03-2020    M       5.79                 15881197   \n",
      "3  Andhra Pradesh   30-04-2020    M      20.51                 11336911   \n",
      "4  Andhra Pradesh   31-05-2020    M      17.43                 12988845   \n",
      "\n",
      "   EstEmployed EstLabourParticipationRate  Longitude  Latitude  \n",
      "0        41.02                      South    15.9129     79.74  \n",
      "1        40.90                      South    15.9129     79.74  \n",
      "2        39.18                      South    15.9129     79.74  \n",
      "3        33.10                      South    15.9129     79.74  \n",
      "4        36.46                      South    15.9129     79.74  \n"
     ]
    }
   ],
   "source": [
    "print(db2.head())"
   ]
  },
  {
   "cell_type": "markdown",
   "id": "94ef11a4",
   "metadata": {},
   "source": [
    "<br>\n",
    "<font size=\"3\">Depiction using a heatmap</font>\n"
   ]
  },
  {
   "cell_type": "code",
   "execution_count": 16,
   "id": "ea901dfd",
   "metadata": {
    "scrolled": true
   },
   "outputs": [
    {
     "data": {
      "text/plain": [
       "<function matplotlib.pyplot.show(close=None, block=None)>"
      ]
     },
     "execution_count": 16,
     "metadata": {},
     "output_type": "execute_result"
    },
    {
     "data": {
      "image/png": "[encoded data removed]",
      "text/plain": [
       "<Figure size 648x648 with 2 Axes>"
      ]
     },
     "metadata": {},
     "output_type": "display_data"
    }
   ],
   "source": [
    "plt.style.use('seaborn-whitegrid')\n",
    "plt.figure(figsize=(9,9))\n",
    "sns.heatmap(db2.corr())\n",
    "plt.show"
   ]
  },
  {
   "cell_type": "markdown",
   "id": "161e0cf1",
   "metadata": {},
   "source": [
    "<br>\n",
    "<font size=\"3\">Using a histogram to show variation of estimated employed with region</font>\n"
   ]
  },
  {
   "cell_type": "code",
   "execution_count": 14,
   "id": "a476049b",
   "metadata": {
    "scrolled": true
   },
   "outputs": [
    {
     "data": {
      "image/png": "[encoded data removed]",
      "text/plain": [
       "<Figure size 1080x720 with 1 Axes>"
      ]
     },
     "metadata": {},
     "output_type": "display_data"
    }
   ],
   "source": [
    "# unemployment trends based on states\n",
    "db2.columns=[\"Region\",\"Area\",\"Date\",\"Frequency\",\"EstUnemploymentEmployed\",\"EstEmployed\",\"EstLabourParticipationRate\",\"Longitude\",\"Latitude\"]\n",
    "plt.figure(figsize=(15,10))\n",
    "plt.title(\"Unemployment in India\")\n",
    "sns.histplot(x=\"EstEmployed\", hue=\"Region\", data=db2)\n",
    "plt.show()"
   ]
  },
  {
   "cell_type": "markdown",
   "id": "c8066f17",
   "metadata": {},
   "source": [
    "<br>\n",
    "<font size=\"3\">Using a histogram to show variation of estimated employed with area</font>\n"
   ]
  },
  {
   "cell_type": "code",
   "execution_count": 12,
   "id": "9928b4d0",
   "metadata": {},
   "outputs": [
    {
     "data": {
      "image/png": "[encoded data removed]",
      "text/plain": [
       "<Figure size 1080x720 with 1 Axes>"
      ]
     },
     "metadata": {},
     "output_type": "display_data"
    }
   ],
   "source": [
    "# unemployment rates based on area\n",
    "db2.columns=[\"Region\",\"Area\",\"Date\",\"Frequency\",\"EstUnemploymentEmployed\",\"EstEmployed\",\"EstLabourParticipationRate\",\"Longitude\",\"Latitude\"]\n",
    "plt.figure(figsize=(15,10))\n",
    "plt.title(\"Unemployment in India on Area basis\")\n",
    "sns.histplot(x=\"EstEmployed\", hue=\"Area\", data=db2)\n",
    "plt.show()"
   ]
  }
 ],
 "metadata": {
  "kernelspec": {
   "display_name": "Python 3 (ipykernel)",
   "language": "python",
   "name": "python3"
  },
  "language_info": {
   "codemirror_mode": {
    "name": "ipython",
    "version": 3
   },
   "file_extension": ".py",
   "mimetype": "text/x-python",
   "name": "python",
   "nbconvert_exporter": "python",
   "pygments_lexer": "ipython3",
   "version": "3.9.12"
  }
 },
 "nbformat": 4,
 "nbformat_minor": 5
}
